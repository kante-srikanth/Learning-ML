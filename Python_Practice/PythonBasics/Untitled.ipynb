{
 "cells": [
  {
   "cell_type": "code",
   "execution_count": 2,
   "metadata": {},
   "outputs": [
    {
     "ename": "NameError",
     "evalue": "name 'name' is not defined",
     "output_type": "error",
     "traceback": [
      "\u001b[0;31m---------------------------------------------------------------------------\u001b[0m",
      "\u001b[0;31mNameError\u001b[0m                                 Traceback (most recent call last)",
      "\u001b[0;32m<ipython-input-2-1672fb1bc109>\u001b[0m in \u001b[0;36m<module>\u001b[0;34m\u001b[0m\n\u001b[1;32m     14\u001b[0m \u001b[0mmyCar1\u001b[0m\u001b[0;34m.\u001b[0m\u001b[0mcolor\u001b[0m \u001b[0;34m=\u001b[0m \u001b[0;34m\"Matte Black\"\u001b[0m\u001b[0;34m\u001b[0m\u001b[0m\n\u001b[1;32m     15\u001b[0m \u001b[0mmyCar1\u001b[0m\u001b[0;34m.\u001b[0m\u001b[0mworth\u001b[0m \u001b[0;34m=\u001b[0m \u001b[0;34m\"3Cr\"\u001b[0m\u001b[0;34m\u001b[0m\u001b[0m\n\u001b[0;32m---> 16\u001b[0;31m \u001b[0mmyCar1\u001b[0m\u001b[0;34m.\u001b[0m\u001b[0mmyFunction\u001b[0m\u001b[0;34m(\u001b[0m\u001b[0;34m)\u001b[0m\u001b[0;34m\u001b[0m\u001b[0m\n\u001b[0m\u001b[1;32m     17\u001b[0m \u001b[0mmyCar2\u001b[0m\u001b[0;34m.\u001b[0m\u001b[0mname\u001b[0m \u001b[0;34m=\u001b[0m \u001b[0;34m\"Ferrari\"\u001b[0m\u001b[0;34m\u001b[0m\u001b[0m\n\u001b[1;32m     18\u001b[0m \u001b[0mmyCar2\u001b[0m\u001b[0;34m.\u001b[0m\u001b[0mcolor\u001b[0m \u001b[0;34m=\u001b[0m \u001b[0;34m\"Red\"\u001b[0m\u001b[0;34m\u001b[0m\u001b[0m\n",
      "\u001b[0;32m<ipython-input-2-1672fb1bc109>\u001b[0m in \u001b[0;36mmyFunction\u001b[0;34m(self)\u001b[0m\n\u001b[1;32m      6\u001b[0m \u001b[0;34m\u001b[0m\u001b[0m\n\u001b[1;32m      7\u001b[0m     \u001b[0;32mdef\u001b[0m \u001b[0mmyFunction\u001b[0m\u001b[0;34m(\u001b[0m\u001b[0mself\u001b[0m\u001b[0;34m)\u001b[0m\u001b[0;34m:\u001b[0m\u001b[0;34m\u001b[0m\u001b[0m\n\u001b[0;32m----> 8\u001b[0;31m         \u001b[0mprint\u001b[0m\u001b[0;34m(\u001b[0m\u001b[0;34m\"Name of the car %s , and color of the car is %s , and its worth is %s \"\u001b[0m \u001b[0;34m%\u001b[0m\u001b[0;34m(\u001b[0m\u001b[0mname\u001b[0m\u001b[0;34m,\u001b[0m\u001b[0mcolor\u001b[0m\u001b[0;34m,\u001b[0m\u001b[0mworth\u001b[0m\u001b[0;34m)\u001b[0m\u001b[0;34m)\u001b[0m\u001b[0;34m\u001b[0m\u001b[0m\n\u001b[0m\u001b[1;32m      9\u001b[0m \u001b[0;34m\u001b[0m\u001b[0m\n\u001b[1;32m     10\u001b[0m \u001b[0mmyCar1\u001b[0m \u001b[0;34m=\u001b[0m \u001b[0mmyVehicle\u001b[0m\u001b[0;34m(\u001b[0m\u001b[0;34m)\u001b[0m\u001b[0;34m\u001b[0m\u001b[0m\n",
      "\u001b[0;31mNameError\u001b[0m: name 'name' is not defined"
     ]
    }
   ],
   "source": [
    "class myVehicle :\n",
    "    name = \"\"\n",
    "    color = \"\"\n",
    "    worth = \"\"\n",
    "    kind = \"car\"\n",
    "    \n",
    "    def myFunction(self):\n",
    "        print(\"Name of the car %s , and color of the car is %s , and its worth is %s \" %(name,color,worth))\n",
    "        \n",
    "myCar1 = myVehicle()\n",
    "myCar2 = myVehicle()\n",
    "\n",
    "myCar1.name = \"Lambo\"\n",
    "myCar1.color = \"Matte Black\"\n",
    "myCar1.worth = \"3Cr\"\n",
    "myCar1.myFunction()\n",
    "myCar2.name = \"Ferrari\"\n",
    "myCar2.color = \"Red\"\n",
    "myCar2.worth = \"1Cr\"\n",
    "myCar2.myFunction()"
   ]
  },
  {
   "cell_type": "code",
   "execution_count": null,
   "metadata": {},
   "outputs": [],
   "source": []
  },
  {
   "cell_type": "code",
   "execution_count": null,
   "metadata": {},
   "outputs": [],
   "source": []
  },
  {
   "cell_type": "code",
   "execution_count": null,
   "metadata": {},
   "outputs": [],
   "source": []
  },
  {
   "cell_type": "code",
   "execution_count": null,
   "metadata": {},
   "outputs": [],
   "source": []
  },
  {
   "cell_type": "code",
   "execution_count": null,
   "metadata": {},
   "outputs": [],
   "source": []
  },
  {
   "cell_type": "code",
   "execution_count": 7,
   "metadata": {},
   "outputs": [
    {
     "name": "stdout",
     "output_type": "stream",
     "text": [
      "Name of the car is : Lambo \n",
      " and color of the car is Matte Black \n",
      " and its worth is 3Cr \n",
      "\n",
      "Name of the car is : Ferrari \n",
      " and color of the car is Red \n",
      " and its worth is 1Cr \n",
      "\n"
     ]
    }
   ],
   "source": [
    "class myVehicle :\n",
    "    name = \"\"\n",
    "    color = \"\"\n",
    "    worth = \"\"\n",
    "    kind = \"car\"\n",
    "    \n",
    "    def myFunction(self):\n",
    "        print(\"Name of the car is : %s \\n and color of the car is %s \\n and its worth is %s \\n\" %(self.name,self.color,self.worth))\n",
    "        \n",
    "myCar1 = myVehicle()\n",
    "myCar2 = myVehicle()\n",
    "\n",
    "myCar1.name = \"Lambo\"\n",
    "myCar1.color = \"Matte Black\"\n",
    "myCar1.worth = \"3Cr\"\n",
    "myCar1.myFunction()\n",
    "myCar2.name = \"Ferrari\"\n",
    "myCar2.color = \"Red\"\n",
    "myCar2.worth = \"1Cr\"\n",
    "myCar2.myFunction()"
   ]
  },
  {
   "cell_type": "code",
   "execution_count": 14,
   "metadata": {},
   "outputs": [
    {
     "ename": "TypeError",
     "evalue": "addNumber() got multiple values for argument 'name'",
     "output_type": "error",
     "traceback": [
      "\u001b[0;31m---------------------------------------------------------------------------\u001b[0m",
      "\u001b[0;31mTypeError\u001b[0m                                 Traceback (most recent call last)",
      "\u001b[0;32m<ipython-input-14-8814d9afcf4c>\u001b[0m in \u001b[0;36m<module>\u001b[0;34m\u001b[0m\n\u001b[1;32m      7\u001b[0m \u001b[0;34m\u001b[0m\u001b[0m\n\u001b[1;32m      8\u001b[0m \u001b[0mContacts\u001b[0m \u001b[0;34m=\u001b[0m \u001b[0mmyPhoneBook\u001b[0m\u001b[0;34m(\u001b[0m\u001b[0;34m)\u001b[0m\u001b[0;34m\u001b[0m\u001b[0m\n\u001b[0;32m----> 9\u001b[0;31m \u001b[0mContacts\u001b[0m\u001b[0;34m.\u001b[0m\u001b[0maddNumber\u001b[0m\u001b[0;34m(\u001b[0m\u001b[0mname\u001b[0m\u001b[0;34m=\u001b[0m\u001b[0;34m\"srikanth\"\u001b[0m\u001b[0;34m)\u001b[0m\u001b[0;34m\u001b[0m\u001b[0m\n\u001b[0m\u001b[1;32m     10\u001b[0m \u001b[0;34m\u001b[0m\u001b[0m\n\u001b[1;32m     11\u001b[0m \u001b[0;34m\u001b[0m\u001b[0m\n",
      "\u001b[0;31mTypeError\u001b[0m: addNumber() got multiple values for argument 'name'"
     ]
    }
   ],
   "source": [
    "class myPhoneBook :\n",
    "    phonebook = {}\n",
    "    \n",
    "    def addNumber(name):\n",
    "        phonebook.name = self.name\n",
    "        print(phonebook)\n",
    "        \n",
    "Contacts = myPhoneBook()\n",
    "Contacts.addNumber(name=\"srikanth\")\n",
    "        \n",
    "    \n"
   ]
  },
  {
   "cell_type": "code",
   "execution_count": null,
   "metadata": {},
   "outputs": [],
   "source": []
  },
  {
   "cell_type": "code",
   "execution_count": null,
   "metadata": {},
   "outputs": [],
   "source": []
  },
  {
   "cell_type": "code",
   "execution_count": null,
   "metadata": {},
   "outputs": [],
   "source": []
  },
  {
   "cell_type": "code",
   "execution_count": null,
   "metadata": {},
   "outputs": [],
   "source": []
  },
  {
   "cell_type": "code",
   "execution_count": null,
   "metadata": {},
   "outputs": [],
   "source": []
  },
  {
   "cell_type": "code",
   "execution_count": 21,
   "metadata": {},
   "outputs": [
    {
     "ename": "AttributeError",
     "evalue": "'myPhoneBook' object has no attribute 'name'",
     "output_type": "error",
     "traceback": [
      "\u001b[0;31m---------------------------------------------------------------------------\u001b[0m",
      "\u001b[0;31mAttributeError\u001b[0m                            Traceback (most recent call last)",
      "\u001b[0;32m<ipython-input-21-b76b66c8866c>\u001b[0m in \u001b[0;36m<module>\u001b[0;34m\u001b[0m\n\u001b[1;32m      9\u001b[0m \u001b[0;34m\u001b[0m\u001b[0m\n\u001b[1;32m     10\u001b[0m \u001b[0mContacts\u001b[0m \u001b[0;34m=\u001b[0m \u001b[0mmyPhoneBook\u001b[0m\u001b[0;34m(\u001b[0m\u001b[0;34m)\u001b[0m\u001b[0;34m\u001b[0m\u001b[0m\n\u001b[0;32m---> 11\u001b[0;31m \u001b[0mContacts\u001b[0m\u001b[0;34m.\u001b[0m\u001b[0maddNumber\u001b[0m\u001b[0;34m(\u001b[0m\u001b[0;34m\"srikanth\"\u001b[0m\u001b[0;34m)\u001b[0m\u001b[0;34m\u001b[0m\u001b[0m\n\u001b[0m\u001b[1;32m     12\u001b[0m \u001b[0;34m\u001b[0m\u001b[0m\n\u001b[1;32m     13\u001b[0m \u001b[0;34m\u001b[0m\u001b[0m\n",
      "\u001b[0;32m<ipython-input-21-b76b66c8866c>\u001b[0m in \u001b[0;36maddNumber\u001b[0;34m(self, name)\u001b[0m\n\u001b[1;32m      5\u001b[0m \u001b[0;34m\u001b[0m\u001b[0m\n\u001b[1;32m      6\u001b[0m     \u001b[0;32mdef\u001b[0m \u001b[0maddNumber\u001b[0m\u001b[0;34m(\u001b[0m\u001b[0mself\u001b[0m\u001b[0;34m,\u001b[0m \u001b[0mname\u001b[0m\u001b[0;34m)\u001b[0m\u001b[0;34m:\u001b[0m\u001b[0;34m\u001b[0m\u001b[0m\n\u001b[0;32m----> 7\u001b[0;31m         \u001b[0mphonebook\u001b[0m\u001b[0;34m.\u001b[0m\u001b[0mname\u001b[0m \u001b[0;34m=\u001b[0m \u001b[0mself\u001b[0m\u001b[0;34m.\u001b[0m\u001b[0mname\u001b[0m\u001b[0;34m\u001b[0m\u001b[0m\n\u001b[0m\u001b[1;32m      8\u001b[0m         \u001b[0mprint\u001b[0m\u001b[0;34m(\u001b[0m\u001b[0mphonebook\u001b[0m\u001b[0;34m)\u001b[0m\u001b[0;34m\u001b[0m\u001b[0m\n\u001b[1;32m      9\u001b[0m \u001b[0;34m\u001b[0m\u001b[0m\n",
      "\u001b[0;31mAttributeError\u001b[0m: 'myPhoneBook' object has no attribute 'name'"
     ]
    }
   ],
   "source": [
    "class myPhoneBook :\n",
    "    phonebook = {\n",
    "        \"name\" : \"\"\n",
    "    }\n",
    "    \n",
    "    def addNumber(self, name):\n",
    "        phonebook.name = self.name\n",
    "        print(phonebook)\n",
    "        \n",
    "Contacts = myPhoneBook()\n",
    "Contacts.addNumber(\"srikanth\")\n",
    "        \n",
    "    \n"
   ]
  },
  {
   "cell_type": "code",
   "execution_count": null,
   "metadata": {},
   "outputs": [],
   "source": []
  },
  {
   "cell_type": "code",
   "execution_count": null,
   "metadata": {},
   "outputs": [],
   "source": []
  },
  {
   "cell_type": "code",
   "execution_count": 26,
   "metadata": {},
   "outputs": [
    {
     "name": "stdout",
     "output_type": "stream",
     "text": [
      "srikanth\n"
     ]
    }
   ],
   "source": [
    "class myPhoneBook :\n",
    "    name = \"\"\n",
    "    def addNumber(self, name):\n",
    "        self.name = name\n",
    "        print(self.name)\n",
    "        \n",
    "Contacts = myPhoneBook()\n",
    "Contacts.addNumber(\"srikanth\")\n",
    "        \n",
    "    "
   ]
  },
  {
   "cell_type": "code",
   "execution_count": 27,
   "metadata": {},
   "outputs": [
    {
     "name": "stdout",
     "output_type": "stream",
     "text": [
      "\n"
     ]
    }
   ],
   "source": [
    "class myPhoneBook :\n",
    "    name = \"\"\n",
    "    def addNumber(self, name):\n",
    "        name = self.name\n",
    "        print(name)\n",
    "        \n",
    "Contacts = myPhoneBook()\n",
    "Contacts.addNumber(\"srikanth\")\n",
    "        "
   ]
  },
  {
   "cell_type": "code",
   "execution_count": null,
   "metadata": {},
   "outputs": [],
   "source": []
  },
  {
   "cell_type": "code",
   "execution_count": 29,
   "metadata": {},
   "outputs": [
    {
     "name": "stdout",
     "output_type": "stream",
     "text": [
      "\n"
     ]
    }
   ],
   "source": [
    "class myPhoneBook :\n",
    "    name = \"\"\n",
    "    def addNumber(self, name):\n",
    "        name = self.name\n",
    "        print(name)\n",
    "        \n",
    "Contacts = myPhoneBook()\n",
    "Contacts.addNumber(\"srikanth\")\n",
    "        "
   ]
  },
  {
   "cell_type": "code",
   "execution_count": null,
   "metadata": {},
   "outputs": [],
   "source": []
  },
  {
   "cell_type": "code",
   "execution_count": null,
   "metadata": {},
   "outputs": [],
   "source": [
    "class myPhoneBook :\n",
    "    name = \"\"\n",
    "    def addNumber(self, name):\n",
    "        name = self.name\n",
    "        print(name)\n",
    "        \n",
    "Contacts = myPhoneBook()\n",
    "Contacts.addNumber(\"srikanth\")"
   ]
  },
  {
   "cell_type": "code",
   "execution_count": 30,
   "metadata": {},
   "outputs": [],
   "source": [
    "class ClassA :\n",
    "    def methodA(self,arg1,arg2):\n",
    "        print(\"hello\")\n",
    "        gf"
   ]
  },
  {
   "cell_type": "code",
   "execution_count": 31,
   "metadata": {},
   "outputs": [
    {
     "name": "stdout",
     "output_type": "stream",
     "text": [
      "\n"
     ]
    }
   ],
   "source": [
    "class myPhoneBook :\n",
    "    name = \"\"\n",
    "    def addNumber(self, name):\n",
    "        se = self.name\n",
    "        print(name)\n",
    "        \n",
    "Contacts = myPhoneBook()\n",
    "Contacts.addNumber(\"srikanth\")"
   ]
  },
  {
   "cell_type": "code",
   "execution_count": null,
   "metadata": {},
   "outputs": [],
   "source": []
  }
 ],
 "metadata": {
  "kernelspec": {
   "display_name": "Python 3",
   "language": "python",
   "name": "python3"
  },
  "language_info": {
   "codemirror_mode": {
    "name": "ipython",
    "version": 3
   },
   "file_extension": ".py",
   "mimetype": "text/x-python",
   "name": "python",
   "nbconvert_exporter": "python",
   "pygments_lexer": "ipython3",
   "version": "3.6.6"
  }
 },
 "nbformat": 4,
 "nbformat_minor": 2
}
