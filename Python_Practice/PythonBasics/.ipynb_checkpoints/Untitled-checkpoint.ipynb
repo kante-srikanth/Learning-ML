{
 "cells": [
  {
   "cell_type": "code",
   "execution_count": null,
   "metadata": {},
   "outputs": [],
   "source": [
    "class myVehicle :\n",
    "    name = \"\"\n",
    "    color = \"\"\n",
    "    worth = \"\"\n",
    "    kind = \"car\"\n",
    "    \n",
    "    def myFunction():\n",
    "        print(\"Name of the car %s , and color of the car is %s , and its worth is %s \" %(name,color,worth))\n",
    "        \n",
    "myCar1 = myVehicle()\n",
    "myCar2 = myVehicle()\n",
    "\n",
    "myCar1.name = \"Lambo\"\n",
    "myCar1.color = \"Matte Black\"\n",
    "myCar1.worth = \"3Cr\"\n",
    "myCar1.myFunction()\n",
    "myCar2.name = \"Ferrari\"\n",
    "myCar2.color = \"Red\"\n",
    "myCar2.worth = \"1Cr\"\n",
    "myCar2.myFunction()"
   ]
  }
 ],
 "metadata": {
  "kernelspec": {
   "display_name": "Python 3",
   "language": "python",
   "name": "python3"
  },
  "language_info": {
   "codemirror_mode": {
    "name": "ipython",
    "version": 3
   },
   "file_extension": ".py",
   "mimetype": "text/x-python",
   "name": "python",
   "nbconvert_exporter": "python",
   "pygments_lexer": "ipython3",
   "version": "3.6.6"
  }
 },
 "nbformat": 4,
 "nbformat_minor": 2
}
