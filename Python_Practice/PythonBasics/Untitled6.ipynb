{
 "cells": [
  {
   "cell_type": "code",
   "execution_count": null,
   "metadata": {},
   "outputs": [],
   "source": [
    "phone = input(\"please enter your phone number\")\n",
    "strPhone = str(phone)\n",
    "if len(strPhone)!=10 :\n",
    "elif (strPhone.isalpha()==False):\n",
    "         print(\"invalid number\")\n",
    "else :\n",
    "    print(\"valid number\")"
   ]
  },
  {
   "cell_type": "code",
   "execution_count": null,
   "metadata": {},
   "outputs": [],
   "source": [
    "id = 101\n",
    "name = 'srinivas'\n",
    "sal = 19500.75\n",
    "\n",
    "str = '{}{}{}'.format(id,name,sal)\n"
   ]
  },
  {
   "cell_type": "code",
   "execution_count": null,
   "metadata": {},
   "outputs": [],
   "source": []
  },
  {
   "cell_type": "code",
   "execution_count": null,
   "metadata": {},
   "outputs": [],
   "source": [
    "id = 101\n",
    "name = 'srinivas'\n",
    "sal = 19500.75\n",
    "\n",
    "str = '{}{}{}'.format(id,name,sal)\n"
   ]
  }
 ],
 "metadata": {
  "kernelspec": {
   "display_name": "Python 3",
   "language": "python",
   "name": "python3"
  },
  "language_info": {
   "codemirror_mode": {
    "name": "ipython",
    "version": 3
   },
   "file_extension": ".py",
   "mimetype": "text/x-python",
   "name": "python",
   "nbconvert_exporter": "python",
   "pygments_lexer": "ipython3",
   "version": "3.6.6"
  }
 },
 "nbformat": 4,
 "nbformat_minor": 2
}
