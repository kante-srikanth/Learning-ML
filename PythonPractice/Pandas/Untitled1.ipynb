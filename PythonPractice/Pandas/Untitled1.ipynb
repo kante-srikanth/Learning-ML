{
 "cells": [
  {
   "cell_type": "code",
   "execution_count": 43,
   "metadata": {},
   "outputs": [
    {
     "name": "stdout",
     "output_type": "stream",
     "text": [
      "['the', 'quick', 'brown', 'fox', 'jumps', 'over', 'the', 'lazy', 'dog']\n",
      "[0, 5, 5, 3, 5, 4, 0, 4, 3]\n"
     ]
    }
   ],
   "source": [
    "sampleSentence = \"the quick brown fox jumps over the lazy dog\"\n",
    "words = sampleSentence.split()\n",
    "wordsLength = []\n",
    "for word in words:\n",
    "    if word!=\"the\":\n",
    "        wordsLength.append(len(word))\n",
    "    else:\n",
    "        wordsLength.append(0)\n",
    "print(words)\n",
    "print(wordsLength)"
   ]
  },
  {
   "cell_type": "code",
   "execution_count": 62,
   "metadata": {},
   "outputs": [
    {
     "ename": "SyntaxError",
     "evalue": "invalid syntax (<ipython-input-62-290fddbddb43>, line 3)",
     "output_type": "error",
     "traceback": [
      "\u001b[0;36m  File \u001b[0;32m\"<ipython-input-62-290fddbddb43>\"\u001b[0;36m, line \u001b[0;32m3\u001b[0m\n\u001b[0;31m    wordsLength = [ if word!= \"the\" len(word) else 0 for word in words]\u001b[0m\n\u001b[0m                     ^\u001b[0m\n\u001b[0;31mSyntaxError\u001b[0m\u001b[0;31m:\u001b[0m invalid syntax\n"
     ]
    }
   ],
   "source": [
    "sampleSentence = \"the quick brown fox jumps over the lazy dog\"\n",
    "words = sampleSentence.split()\n",
    "wordsLength = [ if word!= \"the\" len(word) else 0 for word in words]\n",
    "print(words)\n",
    "print(wordsLength)"
   ]
  },
  {
   "cell_type": "code",
   "execution_count": 66,
   "metadata": {},
   "outputs": [
    {
     "ename": "SyntaxError",
     "evalue": "invalid syntax (<ipython-input-66-acb022c9c56e>, line 2)",
     "output_type": "error",
     "traceback": [
      "\u001b[0;36m  File \u001b[0;32m\"<ipython-input-66-acb022c9c56e>\"\u001b[0;36m, line \u001b[0;32m2\u001b[0m\n\u001b[0;31m    onlyPositive = [int(x) if x > 0 for x in number]\u001b[0m\n\u001b[0m                                      ^\u001b[0m\n\u001b[0;31mSyntaxError\u001b[0m\u001b[0;31m:\u001b[0m invalid syntax\n"
     ]
    }
   ],
   "source": [
    "number = [34.6, -203.4, 44.9, 68.3, -12.2, 44.6, 12.7]\n",
    "onlyPositive = [int(x) if x > 0 for x in number]"
   ]
  },
  {
   "cell_type": "code",
   "execution_count": 69,
   "metadata": {},
   "outputs": [],
   "source": [
    "numbers = [34.6, -203.4, 44.9, 68.3, -12.2, 44.6, 12.7]\n",
    "newlist = [int(x) for x in numbers if x > 0]\n"
   ]
  },
  {
   "cell_type": "code",
   "execution_count": null,
   "metadata": {},
   "outputs": [],
   "source": []
  },
  {
   "cell_type": "code",
   "execution_count": null,
   "metadata": {},
   "outputs": [],
   "source": []
  },
  {
   "cell_type": "code",
   "execution_count": null,
   "metadata": {},
   "outputs": [],
   "source": []
  },
  {
   "cell_type": "code",
   "execution_count": null,
   "metadata": {},
   "outputs": [],
   "source": []
  }
 ],
 "metadata": {
  "kernelspec": {
   "display_name": "Python 3",
   "language": "python",
   "name": "python3"
  },
  "language_info": {
   "codemirror_mode": {
    "name": "ipython",
    "version": 3
   },
   "file_extension": ".py",
   "mimetype": "text/x-python",
   "name": "python",
   "nbconvert_exporter": "python",
   "pygments_lexer": "ipython3",
   "version": "3.6.6"
  }
 },
 "nbformat": 4,
 "nbformat_minor": 2
}
