{
 "cells": [
  {
   "cell_type": "code",
   "execution_count": 19,
   "metadata": {},
   "outputs": [
    {
     "name": "stdout",
     "output_type": "stream",
     "text": [
      "i am going to divide a by b\n",
      "cannot divide\n"
     ]
    }
   ],
   "source": [
    "def smartDivide(func):\n",
    "    def inner(a,b):\n",
    "        print(\"i am going to divide a by b\")\n",
    "        if b==0:\n",
    "            print(\"cannot divide\")\n",
    "    return inner\n",
    "\n",
    "@smartDivide\n",
    "def divide(a,b):\n",
    "    return a/b\n",
    "f2 = smartDivide(divide(2,0))"
   ]
  }
 ],
 "metadata": {
  "kernelspec": {
   "display_name": "Python 3",
   "language": "python",
   "name": "python3"
  },
  "language_info": {
   "codemirror_mode": {
    "name": "ipython",
    "version": 3
   },
   "file_extension": ".py",
   "mimetype": "text/x-python",
   "name": "python",
   "nbconvert_exporter": "python",
   "pygments_lexer": "ipython3",
   "version": "3.6.6"
  }
 },
 "nbformat": 4,
 "nbformat_minor": 2
}
