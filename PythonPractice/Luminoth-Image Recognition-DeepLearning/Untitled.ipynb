{
 "cells": [
  {
   "cell_type": "code",
   "execution_count": 3,
   "metadata": {},
   "outputs": [
    {
     "name": "stdout",
     "output_type": "stream",
     "text": [
      "Collecting luminoth\n",
      "\u001b[?25l  Downloading https://files.pythonhosted.org/packages/12/ad/81860f57f2d7b5fa4c6182d28516b7f9b3a49518008df47a89384e8ff60d/luminoth-0.2.3-py2.py3-none-any.whl (220kB)\n",
      "\u001b[K    100% |████████████████████████████████| 225kB 738kB/s ta 0:00:01\n",
      "\u001b[?25hCollecting easydict<=1.8,>=1.7 (from luminoth)\n",
      "  Downloading https://files.pythonhosted.org/packages/e7/24/1fbad1ef849573ea97983e29761160462d89b95dc71853f1080c281ac964/easydict-1.8.tar.gz\n",
      "Requirement already satisfied: PyYAML<4,>=3.12 in /Users/kants2/anaconda3/lib/python3.6/site-packages (from luminoth) (3.13)\n",
      "Requirement already satisfied: lxml in /Users/kants2/anaconda3/lib/python3.6/site-packages (from luminoth) (4.2.5)\n",
      "Collecting click<7,>=6.7 (from luminoth)\n",
      "\u001b[?25l  Downloading https://files.pythonhosted.org/packages/34/c1/8806f99713ddb993c5366c362b2f908f18269f8d792aff1abfd700775a77/click-6.7-py2.py3-none-any.whl (71kB)\n",
      "\u001b[K    100% |████████████████████████████████| 71kB 9.3MB/s eta 0:00:01\n",
      "\u001b[?25hCollecting scikit-video (from luminoth)\n",
      "\u001b[?25l  Downloading https://files.pythonhosted.org/packages/b1/a6/c69cad508139a342810ae46e946ebb3256aa6e42f690d901bb68f50582e3/scikit_video-1.1.11-py2.py3-none-any.whl (2.3MB)\n",
      "\u001b[K    100% |████████████████████████████████| 2.3MB 349kB/s ta 0:00:011\n",
      "\u001b[?25hRequirement already satisfied: requests in /Users/kants2/anaconda3/lib/python3.6/site-packages (from luminoth) (2.20.1)\n",
      "Requirement already satisfied: numpy in /Users/kants2/anaconda3/lib/python3.6/site-packages (from luminoth) (1.15.4)\n",
      "Requirement already satisfied: six>=1.11 in /Users/kants2/anaconda3/lib/python3.6/site-packages (from luminoth) (1.11.0)\n",
      "Requirement already satisfied: Pillow in /Users/kants2/anaconda3/lib/python3.6/site-packages (from luminoth) (5.3.0)\n",
      "Collecting dm-sonnet<=1.23,>=1.12 (from luminoth)\n",
      "\u001b[?25l  Downloading https://files.pythonhosted.org/packages/83/c7/e32a7d83724f26e921dcdd7ddd8f30e6e92cb4e68c740960307616b6ada8/dm_sonnet-1.23-py3-none-any.whl (616kB)\n",
      "\u001b[K    100% |████████████████████████████████| 624kB 232kB/s ta 0:00:01\n",
      "\u001b[?25hRequirement already satisfied: Flask>=0.12 in /Users/kants2/anaconda3/lib/python3.6/site-packages (from luminoth) (1.0.2)\n",
      "Requirement already satisfied: scipy in /Users/kants2/anaconda3/lib/python3.6/site-packages (from scikit-video->luminoth) (1.1.0)\n",
      "Requirement already satisfied: idna<2.8,>=2.5 in /Users/kants2/anaconda3/lib/python3.6/site-packages (from requests->luminoth) (2.7)\n",
      "Requirement already satisfied: certifi>=2017.4.17 in /Users/kants2/anaconda3/lib/python3.6/site-packages (from requests->luminoth) (2018.10.15)\n",
      "Requirement already satisfied: chardet<3.1.0,>=3.0.2 in /Users/kants2/anaconda3/lib/python3.6/site-packages (from requests->luminoth) (3.0.4)\n",
      "Requirement already satisfied: urllib3<1.25,>=1.21.1 in /Users/kants2/anaconda3/lib/python3.6/site-packages (from requests->luminoth) (1.23)\n",
      "Requirement already satisfied: absl-py in /Users/kants2/anaconda3/lib/python3.6/site-packages (from dm-sonnet<=1.23,>=1.12->luminoth) (0.6.1)\n",
      "Requirement already satisfied: itsdangerous>=0.24 in /Users/kants2/anaconda3/lib/python3.6/site-packages (from Flask>=0.12->luminoth) (1.1.0)\n",
      "Requirement already satisfied: Werkzeug>=0.14 in /Users/kants2/anaconda3/lib/python3.6/site-packages (from Flask>=0.12->luminoth) (0.14.1)\n",
      "Requirement already satisfied: Jinja2>=2.10 in /Users/kants2/anaconda3/lib/python3.6/site-packages (from Flask>=0.12->luminoth) (2.10)\n",
      "Requirement already satisfied: MarkupSafe>=0.23 in /Users/kants2/anaconda3/lib/python3.6/site-packages (from Jinja2>=2.10->Flask>=0.12->luminoth) (1.1.0)\n",
      "Building wheels for collected packages: easydict\n",
      "  Building wheel for easydict (setup.py) ... \u001b[?25ldone\n",
      "\u001b[?25h  Stored in directory: /Users/kants2/Library/Caches/pip/wheels/3f/f0/7c/1ec164f1dc11a6e0ef58463f5e25e83d9c6f661e2e8e70bcef\n",
      "Successfully built easydict\n",
      "Installing collected packages: easydict, click, scikit-video, dm-sonnet, luminoth\n",
      "  Found existing installation: Click 7.0\n",
      "    Uninstalling Click-7.0:\n",
      "      Successfully uninstalled Click-7.0\n",
      "Successfully installed click-6.7 dm-sonnet-1.23 easydict-1.8 luminoth-0.2.3 scikit-video-1.1.11\n"
     ]
    }
   ],
   "source": [
    "!pip install luminoth"
   ]
  },
  {
   "cell_type": "code",
   "execution_count": 8,
   "metadata": {},
   "outputs": [
    {
     "name": "stdout",
     "output_type": "stream",
     "text": [
      "Retrieving remote index... done.\n",
      "No changes in remote index.\n"
     ]
    }
   ],
   "source": [
    "!lumi checkpoint refresh"
   ]
  },
  {
   "cell_type": "code",
   "execution_count": 10,
   "metadata": {},
   "outputs": [
    {
     "name": "stdout",
     "output_type": "stream",
     "text": [
      "================================================================================\r\n",
      "|           id |                  name |       alias | source |         status |\r\n",
      "================================================================================\r\n",
      "| e1c2565b51e9 |   Faster R-CNN w/COCO |    accurate | remote | NOT_DOWNLOADED |\r\n",
      "| aad6912e94d9 |      SSD w/Pascal VOC |        fast | remote | NOT_DOWNLOADED |\r\n",
      "================================================================================\r\n"
     ]
    }
   ],
   "source": [
    "!lumi checkpoint list"
   ]
  },
  {
   "cell_type": "code",
   "execution_count": 53,
   "metadata": {},
   "outputs": [
    {
     "name": "stdout",
     "output_type": "stream",
     "text": [
      "Retrieving remote index... done.\n",
      "No changes in remote index.\n"
     ]
    }
   ],
   "source": [
    "!lumi checkpoint refresh"
   ]
  }
 ],
 "metadata": {
  "kernelspec": {
   "display_name": "Python 3",
   "language": "python",
   "name": "python3"
  },
  "language_info": {
   "codemirror_mode": {
    "name": "ipython",
    "version": 3
   },
   "file_extension": ".py",
   "mimetype": "text/x-python",
   "name": "python",
   "nbconvert_exporter": "python",
   "pygments_lexer": "ipython3",
   "version": "3.6.6"
  }
 },
 "nbformat": 4,
 "nbformat_minor": 2
}
