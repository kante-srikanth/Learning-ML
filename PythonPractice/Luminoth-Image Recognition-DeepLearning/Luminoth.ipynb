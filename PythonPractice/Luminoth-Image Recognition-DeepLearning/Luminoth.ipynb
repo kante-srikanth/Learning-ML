{
 "cells": [
  {
   "cell_type": "code",
   "execution_count": 12,
   "metadata": {},
   "outputs": [
    {
     "name": "stdout",
     "output_type": "stream",
     "text": [
      "Requirement already satisfied: tensorflow in /Users/kants2/anaconda3/lib/python3.6/site-packages (1.12.0)\n",
      "Requirement already satisfied: keras-preprocessing>=1.0.5 in /Users/kants2/anaconda3/lib/python3.6/site-packages (from tensorflow) (1.0.5)\n",
      "Requirement already satisfied: wheel>=0.26 in /Users/kants2/anaconda3/lib/python3.6/site-packages (from tensorflow) (0.32.3)\n",
      "Requirement already satisfied: grpcio>=1.8.6 in /Users/kants2/anaconda3/lib/python3.6/site-packages (from tensorflow) (1.14.1)\n",
      "Requirement already satisfied: absl-py>=0.1.6 in /Users/kants2/anaconda3/lib/python3.6/site-packages (from tensorflow) (0.6.1)\n",
      "Requirement already satisfied: astor>=0.6.0 in /Users/kants2/anaconda3/lib/python3.6/site-packages (from tensorflow) (0.7.1)\n",
      "Requirement already satisfied: gast>=0.2.0 in /Users/kants2/anaconda3/lib/python3.6/site-packages (from tensorflow) (0.2.0)\n",
      "Requirement already satisfied: keras-applications>=1.0.6 in /Users/kants2/anaconda3/lib/python3.6/site-packages (from tensorflow) (1.0.6)\n",
      "Requirement already satisfied: six>=1.10.0 in /Users/kants2/anaconda3/lib/python3.6/site-packages (from tensorflow) (1.11.0)\n",
      "Requirement already satisfied: protobuf>=3.6.1 in /Users/kants2/anaconda3/lib/python3.6/site-packages (from tensorflow) (3.6.1)\n",
      "Requirement already satisfied: termcolor>=1.1.0 in /Users/kants2/anaconda3/lib/python3.6/site-packages (from tensorflow) (1.1.0)\n",
      "Requirement already satisfied: tensorboard<1.13.0,>=1.12.0 in /Users/kants2/anaconda3/lib/python3.6/site-packages (from tensorflow) (1.12.0)\n",
      "Requirement already satisfied: numpy>=1.13.3 in /Users/kants2/anaconda3/lib/python3.6/site-packages (from tensorflow) (1.15.4)\n",
      "Requirement already satisfied: h5py in /Users/kants2/anaconda3/lib/python3.6/site-packages (from keras-applications>=1.0.6->tensorflow) (2.8.0)\n",
      "Requirement already satisfied: setuptools in /Users/kants2/anaconda3/lib/python3.6/site-packages (from protobuf>=3.6.1->tensorflow) (40.6.2)\n",
      "Requirement already satisfied: markdown>=2.6.8 in /Users/kants2/anaconda3/lib/python3.6/site-packages (from tensorboard<1.13.0,>=1.12.0->tensorflow) (3.0.1)\n",
      "Requirement already satisfied: werkzeug>=0.11.10 in /Users/kants2/anaconda3/lib/python3.6/site-packages (from tensorboard<1.13.0,>=1.12.0->tensorflow) (0.14.1)\n"
     ]
    }
   ],
   "source": [
    "!pip install tensorflow"
   ]
  },
  {
   "cell_type": "code",
   "execution_count": 14,
   "metadata": {},
   "outputs": [
    {
     "name": "stdout",
     "output_type": "stream",
     "text": [
      "Requirement already satisfied: luminoth in /Users/kants2/anaconda3/lib/python3.6/site-packages (0.2.3)\n",
      "Requirement already satisfied: lxml in /Users/kants2/anaconda3/lib/python3.6/site-packages (from luminoth) (4.2.5)\n",
      "Requirement already satisfied: scikit-video in /Users/kants2/anaconda3/lib/python3.6/site-packages (from luminoth) (1.1.11)\n",
      "Requirement already satisfied: Pillow in /Users/kants2/anaconda3/lib/python3.6/site-packages (from luminoth) (5.3.0)\n",
      "Requirement already satisfied: numpy in /Users/kants2/anaconda3/lib/python3.6/site-packages (from luminoth) (1.15.4)\n",
      "Requirement already satisfied: requests in /Users/kants2/anaconda3/lib/python3.6/site-packages (from luminoth) (2.20.1)\n",
      "Requirement already satisfied: easydict<=1.8,>=1.7 in /Users/kants2/anaconda3/lib/python3.6/site-packages (from luminoth) (1.8)\n",
      "Requirement already satisfied: dm-sonnet<=1.23,>=1.12 in /Users/kants2/anaconda3/lib/python3.6/site-packages (from luminoth) (1.23)\n",
      "Requirement already satisfied: six>=1.11 in /Users/kants2/anaconda3/lib/python3.6/site-packages (from luminoth) (1.11.0)\n",
      "Requirement already satisfied: PyYAML<4,>=3.12 in /Users/kants2/anaconda3/lib/python3.6/site-packages (from luminoth) (3.13)\n",
      "Requirement already satisfied: click<7,>=6.7 in /Users/kants2/anaconda3/lib/python3.6/site-packages (from luminoth) (6.7)\n",
      "Requirement already satisfied: Flask>=0.12 in /Users/kants2/anaconda3/lib/python3.6/site-packages (from luminoth) (1.0.2)\n",
      "Requirement already satisfied: scipy in /Users/kants2/anaconda3/lib/python3.6/site-packages (from scikit-video->luminoth) (1.1.0)\n",
      "Requirement already satisfied: chardet<3.1.0,>=3.0.2 in /Users/kants2/anaconda3/lib/python3.6/site-packages (from requests->luminoth) (3.0.4)\n",
      "Requirement already satisfied: idna<2.8,>=2.5 in /Users/kants2/anaconda3/lib/python3.6/site-packages (from requests->luminoth) (2.7)\n",
      "Requirement already satisfied: urllib3<1.25,>=1.21.1 in /Users/kants2/anaconda3/lib/python3.6/site-packages (from requests->luminoth) (1.23)\n",
      "Requirement already satisfied: certifi>=2017.4.17 in /Users/kants2/anaconda3/lib/python3.6/site-packages (from requests->luminoth) (2018.10.15)\n",
      "Requirement already satisfied: absl-py in /Users/kants2/anaconda3/lib/python3.6/site-packages (from dm-sonnet<=1.23,>=1.12->luminoth) (0.6.1)\n",
      "Requirement already satisfied: Werkzeug>=0.14 in /Users/kants2/anaconda3/lib/python3.6/site-packages (from Flask>=0.12->luminoth) (0.14.1)\n",
      "Requirement already satisfied: itsdangerous>=0.24 in /Users/kants2/anaconda3/lib/python3.6/site-packages (from Flask>=0.12->luminoth) (1.1.0)\n",
      "Requirement already satisfied: Jinja2>=2.10 in /Users/kants2/anaconda3/lib/python3.6/site-packages (from Flask>=0.12->luminoth) (2.10)\n",
      "Requirement already satisfied: MarkupSafe>=0.23 in /Users/kants2/anaconda3/lib/python3.6/site-packages (from Jinja2>=2.10->Flask>=0.12->luminoth) (1.1.0)\n"
     ]
    }
   ],
   "source": [
    "!pip install luminoth"
   ]
  },
  {
   "cell_type": "code",
   "execution_count": 15,
   "metadata": {},
   "outputs": [
    {
     "name": "stdout",
     "output_type": "stream",
     "text": [
      "Requirement already satisfied: luminoth[gcloud] in /Users/kants2/anaconda3/lib/python3.6/site-packages (0.2.3)\n",
      "Requirement already satisfied: six>=1.11 in /Users/kants2/anaconda3/lib/python3.6/site-packages (from luminoth[gcloud]) (1.11.0)\n",
      "Requirement already satisfied: Flask>=0.12 in /Users/kants2/anaconda3/lib/python3.6/site-packages (from luminoth[gcloud]) (1.0.2)\n",
      "Requirement already satisfied: scikit-video in /Users/kants2/anaconda3/lib/python3.6/site-packages (from luminoth[gcloud]) (1.1.11)\n",
      "Requirement already satisfied: PyYAML<4,>=3.12 in /Users/kants2/anaconda3/lib/python3.6/site-packages (from luminoth[gcloud]) (3.13)\n",
      "Requirement already satisfied: easydict<=1.8,>=1.7 in /Users/kants2/anaconda3/lib/python3.6/site-packages (from luminoth[gcloud]) (1.8)\n",
      "Requirement already satisfied: numpy in /Users/kants2/anaconda3/lib/python3.6/site-packages (from luminoth[gcloud]) (1.15.4)\n",
      "Requirement already satisfied: Pillow in /Users/kants2/anaconda3/lib/python3.6/site-packages (from luminoth[gcloud]) (5.3.0)\n",
      "Requirement already satisfied: click<7,>=6.7 in /Users/kants2/anaconda3/lib/python3.6/site-packages (from luminoth[gcloud]) (6.7)\n",
      "Requirement already satisfied: dm-sonnet<=1.23,>=1.12 in /Users/kants2/anaconda3/lib/python3.6/site-packages (from luminoth[gcloud]) (1.23)\n",
      "Requirement already satisfied: lxml in /Users/kants2/anaconda3/lib/python3.6/site-packages (from luminoth[gcloud]) (4.2.5)\n",
      "Requirement already satisfied: requests in /Users/kants2/anaconda3/lib/python3.6/site-packages (from luminoth[gcloud]) (2.20.1)\n",
      "Collecting oauth2client>=4.1.2; extra == \"gcloud\" (from luminoth[gcloud])\n",
      "\u001b[?25l  Downloading https://files.pythonhosted.org/packages/95/a9/4f25a14d23f0786b64875b91784607c2277eff25d48f915e39ff0cff505a/oauth2client-4.1.3-py2.py3-none-any.whl (98kB)\n",
      "\u001b[K    100% |████████████████████████████████| 102kB 199kB/s a 0:00:01\n",
      "\u001b[?25hRequirement already satisfied: pyasn1>=0.4.2; extra == \"gcloud\" in /Users/kants2/anaconda3/lib/python3.6/site-packages (from luminoth[gcloud]) (0.4.4)\n",
      "Collecting google-cloud-storage>=1.2.0; extra == \"gcloud\" (from luminoth[gcloud])\n",
      "\u001b[?25l  Downloading https://files.pythonhosted.org/packages/b6/e9/06d9bb394fddbc62bb9c645f5e1c927128930a249d0c6a7491c3f31a9ff4/google_cloud_storage-1.14.0-py2.py3-none-any.whl (60kB)\n",
      "\u001b[K    100% |████████████████████████████████| 61kB 10.4MB/s ta 0:00:01\n",
      "\u001b[?25hCollecting google-api-python-client<2,>=1.6.2; extra == \"gcloud\" (from luminoth[gcloud])\n",
      "\u001b[?25l  Downloading https://files.pythonhosted.org/packages/55/e9/e8fb2e3a031cb69b9524b80a92b126665d9a17421700a219555e3233ab6a/google_api_python_client-1.7.8-py3-none-any.whl (56kB)\n",
      "\u001b[K    100% |████████████████████████████████| 61kB 10.8MB/s ta 0:00:01\n",
      "\u001b[?25hRequirement already satisfied: Jinja2>=2.10 in /Users/kants2/anaconda3/lib/python3.6/site-packages (from Flask>=0.12->luminoth[gcloud]) (2.10)\n",
      "Requirement already satisfied: itsdangerous>=0.24 in /Users/kants2/anaconda3/lib/python3.6/site-packages (from Flask>=0.12->luminoth[gcloud]) (1.1.0)\n",
      "Requirement already satisfied: Werkzeug>=0.14 in /Users/kants2/anaconda3/lib/python3.6/site-packages (from Flask>=0.12->luminoth[gcloud]) (0.14.1)\n",
      "Requirement already satisfied: scipy in /Users/kants2/anaconda3/lib/python3.6/site-packages (from scikit-video->luminoth[gcloud]) (1.1.0)\n",
      "Requirement already satisfied: absl-py in /Users/kants2/anaconda3/lib/python3.6/site-packages (from dm-sonnet<=1.23,>=1.12->luminoth[gcloud]) (0.6.1)\n",
      "Requirement already satisfied: urllib3<1.25,>=1.21.1 in /Users/kants2/anaconda3/lib/python3.6/site-packages (from requests->luminoth[gcloud]) (1.23)\n",
      "Requirement already satisfied: idna<2.8,>=2.5 in /Users/kants2/anaconda3/lib/python3.6/site-packages (from requests->luminoth[gcloud]) (2.7)\n",
      "Requirement already satisfied: chardet<3.1.0,>=3.0.2 in /Users/kants2/anaconda3/lib/python3.6/site-packages (from requests->luminoth[gcloud]) (3.0.4)\n",
      "Requirement already satisfied: certifi>=2017.4.17 in /Users/kants2/anaconda3/lib/python3.6/site-packages (from requests->luminoth[gcloud]) (2018.10.15)\n",
      "Collecting rsa>=3.1.4 (from oauth2client>=4.1.2; extra == \"gcloud\"->luminoth[gcloud])\n",
      "  Downloading https://files.pythonhosted.org/packages/02/e5/38518af393f7c214357079ce67a317307936896e961e35450b70fad2a9cf/rsa-4.0-py2.py3-none-any.whl\n",
      "Collecting httplib2>=0.9.1 (from oauth2client>=4.1.2; extra == \"gcloud\"->luminoth[gcloud])\n",
      "\u001b[?25l  Downloading https://files.pythonhosted.org/packages/ce/ed/803905d670b52fa0edfdd135337e545b4496c2ab3a222f1449b7256eb99f/httplib2-0.12.0.tar.gz (218kB)\n",
      "\u001b[K    100% |████████████████████████████████| 225kB 19.6MB/s ta 0:00:01\n",
      "\u001b[?25hRequirement already satisfied: pyasn1-modules>=0.0.5 in /Users/kants2/anaconda3/lib/python3.6/site-packages (from oauth2client>=4.1.2; extra == \"gcloud\"->luminoth[gcloud]) (0.2.2)\n",
      "Collecting google-api-core<2.0.0dev,>=1.6.0 (from google-cloud-storage>=1.2.0; extra == \"gcloud\"->luminoth[gcloud])\n",
      "\u001b[?25l  Downloading https://files.pythonhosted.org/packages/8b/01/13758ff9b970008ccf9e0dcc3b86d0e01937d7485b9a2c6142c9c2bdb4da/google_api_core-1.7.0-py2.py3-none-any.whl (64kB)\n",
      "\u001b[K    100% |████████████████████████████████| 71kB 9.5MB/s eta 0:00:01\n",
      "\u001b[?25hCollecting google-cloud-core<0.30dev,>=0.29.0 (from google-cloud-storage>=1.2.0; extra == \"gcloud\"->luminoth[gcloud])\n",
      "  Downloading https://files.pythonhosted.org/packages/0c/f2/3c225e7a69cb27d283b68bff867722bd066bc1858611180197f711815ea5/google_cloud_core-0.29.1-py2.py3-none-any.whl\n",
      "Collecting google-resumable-media>=0.3.1 (from google-cloud-storage>=1.2.0; extra == \"gcloud\"->luminoth[gcloud])\n",
      "  Downloading https://files.pythonhosted.org/packages/e2/5d/4bc5c28c252a62efe69ed1a1561da92bd5af8eca0cdcdf8e60354fae9b29/google_resumable_media-0.3.2-py2.py3-none-any.whl\n",
      "Collecting google-auth-httplib2>=0.0.3 (from google-api-python-client<2,>=1.6.2; extra == \"gcloud\"->luminoth[gcloud])\n",
      "  Downloading https://files.pythonhosted.org/packages/33/49/c814d6d438b823441552198f096fcd0377fd6c88714dbed34f1d3c8c4389/google_auth_httplib2-0.0.3-py2.py3-none-any.whl\n",
      "Collecting uritemplate<4dev,>=3.0.0 (from google-api-python-client<2,>=1.6.2; extra == \"gcloud\"->luminoth[gcloud])\n",
      "  Downloading https://files.pythonhosted.org/packages/e5/7d/9d5a640c4f8bf2c8b1afc015e9a9d8de32e13c9016dcc4b0ec03481fb396/uritemplate-3.0.0-py2.py3-none-any.whl\n",
      "Collecting google-auth>=1.4.1 (from google-api-python-client<2,>=1.6.2; extra == \"gcloud\"->luminoth[gcloud])\n",
      "\u001b[?25l  Downloading https://files.pythonhosted.org/packages/4e/85/71b2dfbf5b4241cd031cc333ed71f90a271074a97cb2c517bb65f07a1a90/google_auth-1.6.2-py2.py3-none-any.whl (73kB)\n",
      "\u001b[K    100% |████████████████████████████████| 81kB 8.1MB/s eta 0:00:01\n",
      "\u001b[?25hRequirement already satisfied: MarkupSafe>=0.23 in /Users/kants2/anaconda3/lib/python3.6/site-packages (from Jinja2>=2.10->Flask>=0.12->luminoth[gcloud]) (1.1.0)\n",
      "Requirement already satisfied: pytz in /Users/kants2/anaconda3/lib/python3.6/site-packages (from google-api-core<2.0.0dev,>=1.6.0->google-cloud-storage>=1.2.0; extra == \"gcloud\"->luminoth[gcloud]) (2018.7)\n",
      "Collecting googleapis-common-protos!=1.5.4,<2.0dev,>=1.5.3 (from google-api-core<2.0.0dev,>=1.6.0->google-cloud-storage>=1.2.0; extra == \"gcloud\"->luminoth[gcloud])\n",
      "  Downloading https://files.pythonhosted.org/packages/61/29/1549f61917eadd11650e42b78b4afcfe9cb467157af4510ab8cb59535f14/googleapis-common-protos-1.5.6.tar.gz\n",
      "Requirement already satisfied: protobuf>=3.4.0 in /Users/kants2/anaconda3/lib/python3.6/site-packages (from google-api-core<2.0.0dev,>=1.6.0->google-cloud-storage>=1.2.0; extra == \"gcloud\"->luminoth[gcloud]) (3.6.1)\n",
      "Requirement already satisfied: setuptools>=34.0.0 in /Users/kants2/anaconda3/lib/python3.6/site-packages (from google-api-core<2.0.0dev,>=1.6.0->google-cloud-storage>=1.2.0; extra == \"gcloud\"->luminoth[gcloud]) (40.6.2)\n",
      "Collecting cachetools>=2.0.0 (from google-auth>=1.4.1->google-api-python-client<2,>=1.6.2; extra == \"gcloud\"->luminoth[gcloud])\n",
      "  Downloading https://files.pythonhosted.org/packages/39/2b/d87fc2369242bd743883232c463f28205902b8579cb68dcf5b11eee1652f/cachetools-3.1.0-py2.py3-none-any.whl\n",
      "Building wheels for collected packages: httplib2, googleapis-common-protos\n",
      "  Building wheel for httplib2 (setup.py) ... \u001b[?25ldone\n",
      "\u001b[?25h  Stored in directory: /Users/kants2/Library/Caches/pip/wheels/6d/41/4b/2b369d6e2b7eaebcdd423516d3fb659c7658c16a2be8fd04ec\n"
     ]
    },
    {
     "name": "stdout",
     "output_type": "stream",
     "text": [
      "  Building wheel for googleapis-common-protos (setup.py) ... \u001b[?25ldone\n",
      "\u001b[?25h  Stored in directory: /Users/kants2/Library/Caches/pip/wheels/da/6b/81/8573adcbe2aa2ecba92c341dfe19c5b5a733f4514297ba52b4\n",
      "Successfully built httplib2 googleapis-common-protos\n",
      "Installing collected packages: rsa, httplib2, oauth2client, cachetools, google-auth, googleapis-common-protos, google-api-core, google-cloud-core, google-resumable-media, google-cloud-storage, google-auth-httplib2, uritemplate, google-api-python-client\n",
      "Successfully installed cachetools-3.1.0 google-api-core-1.7.0 google-api-python-client-1.7.8 google-auth-1.6.2 google-auth-httplib2-0.0.3 google-cloud-core-0.29.1 google-cloud-storage-1.14.0 google-resumable-media-0.3.2 googleapis-common-protos-1.5.6 httplib2-0.12.0 oauth2client-4.1.3 rsa-4.0 uritemplate-3.0.0\n"
     ]
    }
   ],
   "source": [
    "!pip install luminoth[gcloud]"
   ]
  },
  {
   "cell_type": "code",
   "execution_count": 17,
   "metadata": {},
   "outputs": [
    {
     "name": "stdout",
     "output_type": "stream",
     "text": [
      "Retrieving remote index... done.\n",
      "No changes in remote index.\n"
     ]
    }
   ],
   "source": [
    "!lumi checkpoint refresh"
   ]
  },
  {
   "cell_type": "code",
   "execution_count": 19,
   "metadata": {},
   "outputs": [
    {
     "name": "stdout",
     "output_type": "stream",
     "text": [
      "================================================================================\r\n",
      "|           id |                  name |       alias | source |         status |\r\n",
      "================================================================================\r\n",
      "| e1c2565b51e9 |   Faster R-CNN w/COCO |    accurate | remote | NOT_DOWNLOADED |\r\n",
      "| aad6912e94d9 |      SSD w/Pascal VOC |        fast | remote | NOT_DOWNLOADED |\r\n",
      "================================================================================\r\n"
     ]
    }
   ],
   "source": [
    "!lumi checkpoint list"
   ]
  },
  {
   "cell_type": "code",
   "execution_count": 21,
   "metadata": {},
   "outputs": [
    {
     "name": "stdout",
     "output_type": "stream",
     "text": [
      "\u001b[?25lDownloading checkpoint...  [####################################]  100%             \u001b[?25h\n",
      "Importing checkpoint... done.\n",
      "Checkpoint imported successfully.\n"
     ]
    }
   ],
   "source": [
    "!lumi checkpoint download e1c2565b51e9"
   ]
  },
  {
   "cell_type": "code",
   "execution_count": 22,
   "metadata": {},
   "outputs": [
    {
     "name": "stdout",
     "output_type": "stream",
     "text": [
      "Neither checkpoint not config specified, assuming `accurate`.\n",
      " * Serving Flask app \"luminoth.tools.server.web\" (lazy loading)\n",
      " * Environment: production\n",
      "\u001b[31m   WARNING: Do not use the development server in a production environment.\u001b[0m\n",
      "\u001b[2m   Use a production WSGI server instead.\u001b[0m\n",
      " * Debug mode: off\n",
      "2019-02-08 21:17:20.856475: I tensorflow/core/platform/cpu_feature_guard.cc:141] Your CPU supports instructions that this TensorFlow binary was not compiled to use: SSE4.1 SSE4.2 AVX AVX2 FMA\n",
      "2019-02-08 21:17:20.856744: I tensorflow/core/common_runtime/process_util.cc:69] Creating new thread pool with default inter op setting: 4. Tune using inter_op_parallelism_threads for best performance.\n",
      " * Running on http://127.0.0.1:5000/ (Press CTRL+C to quit)\n",
      "INFO:tensorflow:Scale of 0 disables regularizer.\n",
      "INFO:tensorflow:Scale of 0 disables regularizer.\n",
      "INFO:tensorflow:Scale of 0 disables regularizer.\n",
      "INFO:tensorflow:Scale of 0 disables regularizer.\n",
      "INFO:tensorflow:Restoring parameters from /Users/kants2/.luminoth/checkpoints/e1c2565b51e9/model.ckpt-930305\n",
      "INFO:tensorflow:Loaded checkpoint.\n",
      "127.0.0.1 - - [08/Feb/2019 21:25:48] \"\u001b[37mGET / HTTP/1.1\u001b[0m\" 200 -\n",
      "127.0.0.1 - - [08/Feb/2019 21:25:49] \"\u001b[37mGET /static/style.css HTTP/1.1\u001b[0m\" 200 -\n",
      "127.0.0.1 - - [08/Feb/2019 21:25:49] \"\u001b[37mGET /static/luminoth-logo.svg HTTP/1.1\u001b[0m\" 200 -\n",
      "127.0.0.1 - - [08/Feb/2019 21:25:49] \"\u001b[37mGET /static/js/vendor/palette.js HTTP/1.1\u001b[0m\" 200 -\n",
      "127.0.0.1 - - [08/Feb/2019 21:25:49] \"\u001b[37mGET /static/js/vendor/hextorgba.js HTTP/1.1\u001b[0m\" 200 -\n",
      "127.0.0.1 - - [08/Feb/2019 21:25:49] \"\u001b[37mGET /static/js/main.js HTTP/1.1\u001b[0m\" 200 -\n",
      "127.0.0.1 - - [08/Feb/2019 21:25:49] \"\u001b[37mGET /static/tryolabs-logo.svg HTTP/1.1\u001b[0m\" 200 -\n",
      "127.0.0.1 - - [08/Feb/2019 21:25:50] \"\u001b[37mGET /static/favicon.ico HTTP/1.1\u001b[0m\" 200 -\n",
      "OMP: Error #15: Initializing libiomp5.dylib, but found libiomp5.dylib already initialized.\n",
      "OMP: Hint: This means that multiple copies of the OpenMP runtime have been linked into the program. That is dangerous, since it can degrade performance or cause incorrect results. The best thing to do is to ensure that only a single OpenMP runtime is linked into the process, e.g. by avoiding static linking of the OpenMP runtime in any library. As an unsafe, unsupported, undocumented workaround you can set the environment variable KMP_DUPLICATE_LIB_OK=TRUE to allow the program to continue to execute, but that may cause crashes or silently produce incorrect results. For more information, please see http://www.intel.com/software/products/support/.\n"
     ]
    }
   ],
   "source": [
    "!lumi server web"
   ]
  },
  {
   "cell_type": "code",
   "execution_count": 29,
   "metadata": {},
   "outputs": [
    {
     "name": "stdout",
     "output_type": "stream",
     "text": [
      "Found 1 files to predict.\n",
      "Neither checkpoint not config specified, assuming `accurate`.\n",
      "2019-02-08 21:48:05.388924: I tensorflow/core/platform/cpu_feature_guard.cc:141] Your CPU supports instructions that this TensorFlow binary was not compiled to use: SSE4.1 SSE4.2 AVX AVX2 FMA\n",
      "2019-02-08 21:48:05.389138: I tensorflow/core/common_runtime/process_util.cc:69] Creating new thread pool with default inter op setting: 4. Tune using inter_op_parallelism_threads for best performance.\n",
      "Predicting Df-75iwW0AEtsps.jpg...OMP: Error #15: Initializing libiomp5.dylib, but found libiomp5.dylib already initialized.\n",
      "OMP: Hint: This means that multiple copies of the OpenMP runtime have been linked into the program. That is dangerous, since it can degrade performance or cause incorrect results. The best thing to do is to ensure that only a single OpenMP runtime is linked into the process, e.g. by avoiding static linking of the OpenMP runtime in any library. As an unsafe, unsupported, undocumented workaround you can set the environment variable KMP_DUPLICATE_LIB_OK=TRUE to allow the program to continue to execute, but that may cause crashes or silently produce incorrect results. For more information, please see http://www.intel.com/software/products/support/.\n"
     ]
    }
   ],
   "source": [
    "!lumi predict Df-75iwW0AEtsps.jpg"
   ]
  },
  {
   "cell_type": "code",
   "execution_count": 32,
   "metadata": {},
   "outputs": [],
   "source": [
    "os.environ['KMP_DUPLICATE_LIB_OK']='True'"
   ]
  },
  {
   "cell_type": "code",
   "execution_count": 33,
   "metadata": {},
   "outputs": [
    {
     "name": "stdout",
     "output_type": "stream",
     "text": [
      "Found 1 files to predict.\n",
      "Neither checkpoint not config specified, assuming `accurate`.\n",
      "2019-02-08 21:56:14.131500: I tensorflow/core/platform/cpu_feature_guard.cc:141] Your CPU supports instructions that this TensorFlow binary was not compiled to use: SSE4.1 SSE4.2 AVX AVX2 FMA\n",
      "2019-02-08 21:56:14.131734: I tensorflow/core/common_runtime/process_util.cc:69] Creating new thread pool with default inter op setting: 4. Tune using inter_op_parallelism_threads for best performance.\n",
      "Predicting Df-75iwW0AEtsps.jpg... done.\n",
      "{\"file\": \"Df-75iwW0AEtsps.jpg\", \"objects\": [{\"bbox\": [255, 42, 606, 580], \"label\": \"person\", \"prob\": 0.9998}, {\"bbox\": [603, 112, 961, 580], \"label\": \"person\", \"prob\": 0.9996}, {\"bbox\": [339, 255, 434, 574], \"label\": \"tie\", \"prob\": 0.7963}]}\n"
     ]
    }
   ],
   "source": [
    "!lumi predict Df-75iwW0AEtsps.jpg"
   ]
  },
  {
   "cell_type": "code",
   "execution_count": 37,
   "metadata": {},
   "outputs": [
    {
     "name": "stdout",
     "output_type": "stream",
     "text": [
      "mkdir: preds: File exists\r\n"
     ]
    }
   ],
   "source": [
    "mkdir preds"
   ]
  },
  {
   "cell_type": "code",
   "execution_count": 39,
   "metadata": {},
   "outputs": [
    {
     "name": "stdout",
     "output_type": "stream",
     "text": [
      "Found 1 files to predict.\n",
      "Neither checkpoint not config specified, assuming `accurate`.\n",
      "2019-02-08 22:01:39.167166: I tensorflow/core/platform/cpu_feature_guard.cc:141] Your CPU supports instructions that this TensorFlow binary was not compiled to use: SSE4.1 SSE4.2 AVX AVX2 FMA\n",
      "2019-02-08 22:01:39.167349: I tensorflow/core/common_runtime/process_util.cc:69] Creating new thread pool with default inter op setting: 4. Tune using inter_op_parallelism_threads for best performance.\n",
      "Predicting Df-75iwW0AEtsps.jpg... done.\n"
     ]
    }
   ],
   "source": [
    "!lumi predict Df-75iwW0AEtsps.jpg -f preds/objects.json -d preds/"
   ]
  },
  {
   "cell_type": "code",
   "execution_count": 40,
   "metadata": {},
   "outputs": [],
   "source": [
    "mkdir sample"
   ]
  },
  {
   "cell_type": "code",
   "execution_count": null,
   "metadata": {},
   "outputs": [],
   "source": [
    "!lumi checkpoint refresh"
   ]
  },
  {
   "cell_type": "code",
   "execution_count": 43,
   "metadata": {},
   "outputs": [],
   "source": [
    "mkdir hehe"
   ]
  },
  {
   "cell_type": "code",
   "execution_count": 44,
   "metadata": {},
   "outputs": [
    {
     "name": "stdout",
     "output_type": "stream",
     "text": [
      "Retrieving remote index... done.\n",
      "No changes in remote index.\n"
     ]
    }
   ],
   "source": [
    "!lumi checkpoint refresh"
   ]
  },
  {
   "cell_type": "code",
   "execution_count": 45,
   "metadata": {},
   "outputs": [
    {
     "name": "stdout",
     "output_type": "stream",
     "text": [
      "================================================================================\r\n",
      "|           id |                  name |       alias | source |         status |\r\n",
      "================================================================================\r\n",
      "| e1c2565b51e9 |   Faster R-CNN w/COCO |    accurate | remote |     DOWNLOADED |\r\n",
      "| aad6912e94d9 |      SSD w/Pascal VOC |        fast | remote | NOT_DOWNLOADED |\r\n",
      "================================================================================\r\n"
     ]
    }
   ],
   "source": [
    "!lumi checkpoint list"
   ]
  },
  {
   "cell_type": "code",
   "execution_count": 47,
   "metadata": {},
   "outputs": [
    {
     "name": "stdout",
     "output_type": "stream",
     "text": [
      "\u001b[?25lDownloading checkpoint...  [####################################]  100%             \u001b[?25h\n",
      "Importing checkpoint... done.\n",
      "Checkpoint imported successfully.\n"
     ]
    }
   ],
   "source": [
    "!lumi checkpoint download fast"
   ]
  },
  {
   "cell_type": "code",
   "execution_count": 48,
   "metadata": {},
   "outputs": [
    {
     "name": "stdout",
     "output_type": "stream",
     "text": [
      "Found 1 files to predict.\n",
      "2019-02-08 22:46:04.660003: I tensorflow/core/platform/cpu_feature_guard.cc:141] Your CPU supports instructions that this TensorFlow binary was not compiled to use: SSE4.1 SSE4.2 AVX AVX2 FMA\n",
      "2019-02-08 22:46:04.660173: I tensorflow/core/common_runtime/process_util.cc:69] Creating new thread pool with default inter op setting: 4. Tune using inter_op_parallelism_threads for best performance.\n",
      "Predicting Df-75iwW0AEtsps.jpg...2019-02-08 22:46:13.882468: E tensorflow/core/common_runtime/bfc_allocator.cc:373] tried to deallocate nullptr\n",
      " done.\n"
     ]
    }
   ],
   "source": [
    "!lumi predict Df-75iwW0AEtsps.jpg --checkpoint fast -f sample/objects.json -d sample/"
   ]
  }
 ],
 "metadata": {
  "kernelspec": {
   "display_name": "Python 3",
   "language": "python",
   "name": "python3"
  },
  "language_info": {
   "codemirror_mode": {
    "name": "ipython",
    "version": 3
   },
   "file_extension": ".py",
   "mimetype": "text/x-python",
   "name": "python",
   "nbconvert_exporter": "python",
   "pygments_lexer": "ipython3",
   "version": "3.6.6"
  }
 },
 "nbformat": 4,
 "nbformat_minor": 2
}
